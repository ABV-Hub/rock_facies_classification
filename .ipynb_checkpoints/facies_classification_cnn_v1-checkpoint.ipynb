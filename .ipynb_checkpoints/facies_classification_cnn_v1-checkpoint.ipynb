{
 "cells": [
  {
   "cell_type": "markdown",
   "metadata": {},
   "source": [
    "# Facies classification from well logs with Convolutional Neural Networks V1 \n",
    "\n",
    "## ref: https://github.com/seg/2016-ml-contest/blob/master/ShiangYong/facies_classification_cnn.ipynb"
   ]
  },
  {
   "cell_type": "markdown",
   "metadata": {},
   "source": [
    "This data is from the Council Grove gas reservoir in Southwest Kansas.  The Panoma Council Grove Field is predominantly a carbonate gas reservoir encompassing 2700 square miles in Southwestern Kansas.  This dataset is from nine wells (with 4149 examples), consisting of a set of seven predictor variables and a rock facies (class) for each example vector and validation (test) data (830 examples from two wells) having the same seven predictor variables in the feature vector.  Facies are based on examination of cores from nine wells taken vertically at half-foot intervals. Predictor variables include five from wireline log measurements and two geologic constraining variables that are derived from geologic knowledge. These are essentially continuous variables sampled at a half-foot sample rate. \n",
    "\n",
    "\n",
    "These facies aren't discrete, and gradually blend into one another. Some have neighboring facies that are rather close.  Mislabeling within these neighboring facies can be expected to occur.  The following table lists the facies, their abbreviated labels and their approximate neighbors.\n",
    "\n",
    "Facies |Label| Adjacent Facies\n",
    ":---: | :---: |:--:\n",
    "1 |SS| 2\n",
    "2 |CSiS| 1,3\n",
    "3 |FSiS| 2\n",
    "4 |SiSh| 5\n",
    "5 |MS| 4,6\n",
    "6 |WS| 5,7\n",
    "7 |D| 6,8\n",
    "8 |PS| 6,7,9\n",
    "9 |BS| 7,8\n"
   ]
  },
  {
   "cell_type": "code",
   "execution_count": 83,
   "metadata": {},
   "outputs": [],
   "source": [
    "import numpy as np\n",
    "import pandas as pd\n",
    "import matplotlib.pyplot as plt\n",
    "%matplotlib inline\n",
    "\n",
    "from keras.models import Sequential\n",
    "from keras.layers import Dense, Dropout, Activation, Flatten, normalization, Conv1D\n",
    "from keras.callbacks import History\n",
    "from keras.utils import np_utils\n",
    "from keras.callbacks import History\n",
    "import tensorflow as tf \n",
    "\n",
    "from sklearn import metrics\n",
    "from classification_utilities import display_cm"
   ]
  },
  {
   "cell_type": "markdown",
   "metadata": {},
   "source": [
    "## Data Readin and quick look"
   ]
  },
  {
   "cell_type": "code",
   "execution_count": 67,
   "metadata": {},
   "outputs": [
    {
     "data": {
      "text/html": [
       "<div>\n",
       "<style scoped>\n",
       "    .dataframe tbody tr th:only-of-type {\n",
       "        vertical-align: middle;\n",
       "    }\n",
       "\n",
       "    .dataframe tbody tr th {\n",
       "        vertical-align: top;\n",
       "    }\n",
       "\n",
       "    .dataframe thead th {\n",
       "        text-align: right;\n",
       "    }\n",
       "</style>\n",
       "<table border=\"1\" class=\"dataframe\">\n",
       "  <thead>\n",
       "    <tr style=\"text-align: right;\">\n",
       "      <th></th>\n",
       "      <th>Facies</th>\n",
       "      <th>Depth</th>\n",
       "      <th>GR</th>\n",
       "      <th>ILD_log10</th>\n",
       "      <th>DeltaPHI</th>\n",
       "      <th>PHIND</th>\n",
       "      <th>PE</th>\n",
       "      <th>NM_M</th>\n",
       "      <th>RELPOS</th>\n",
       "    </tr>\n",
       "  </thead>\n",
       "  <tbody>\n",
       "    <tr>\n",
       "      <th>count</th>\n",
       "      <td>3232.000000</td>\n",
       "      <td>3232.000000</td>\n",
       "      <td>3232.000000</td>\n",
       "      <td>3232.000000</td>\n",
       "      <td>3232.000000</td>\n",
       "      <td>3232.000000</td>\n",
       "      <td>3232.000000</td>\n",
       "      <td>3232.000000</td>\n",
       "      <td>3232.000000</td>\n",
       "    </tr>\n",
       "    <tr>\n",
       "      <th>mean</th>\n",
       "      <td>4.422030</td>\n",
       "      <td>2875.824567</td>\n",
       "      <td>66.135769</td>\n",
       "      <td>0.642719</td>\n",
       "      <td>3.559642</td>\n",
       "      <td>13.483213</td>\n",
       "      <td>3.725014</td>\n",
       "      <td>1.498453</td>\n",
       "      <td>0.520287</td>\n",
       "    </tr>\n",
       "    <tr>\n",
       "      <th>std</th>\n",
       "      <td>2.504243</td>\n",
       "      <td>131.006274</td>\n",
       "      <td>30.854826</td>\n",
       "      <td>0.241845</td>\n",
       "      <td>5.228948</td>\n",
       "      <td>7.698980</td>\n",
       "      <td>0.896152</td>\n",
       "      <td>0.500075</td>\n",
       "      <td>0.286792</td>\n",
       "    </tr>\n",
       "    <tr>\n",
       "      <th>min</th>\n",
       "      <td>1.000000</td>\n",
       "      <td>2573.500000</td>\n",
       "      <td>13.250000</td>\n",
       "      <td>-0.025949</td>\n",
       "      <td>-21.832000</td>\n",
       "      <td>0.550000</td>\n",
       "      <td>0.200000</td>\n",
       "      <td>1.000000</td>\n",
       "      <td>0.010000</td>\n",
       "    </tr>\n",
       "    <tr>\n",
       "      <th>25%</th>\n",
       "      <td>2.000000</td>\n",
       "      <td>2791.000000</td>\n",
       "      <td>46.918750</td>\n",
       "      <td>0.492750</td>\n",
       "      <td>1.163750</td>\n",
       "      <td>8.346750</td>\n",
       "      <td>3.100000</td>\n",
       "      <td>1.000000</td>\n",
       "      <td>0.273000</td>\n",
       "    </tr>\n",
       "    <tr>\n",
       "      <th>50%</th>\n",
       "      <td>4.000000</td>\n",
       "      <td>2893.500000</td>\n",
       "      <td>65.721500</td>\n",
       "      <td>0.624437</td>\n",
       "      <td>3.500000</td>\n",
       "      <td>12.150000</td>\n",
       "      <td>3.551500</td>\n",
       "      <td>1.000000</td>\n",
       "      <td>0.526000</td>\n",
       "    </tr>\n",
       "    <tr>\n",
       "      <th>75%</th>\n",
       "      <td>6.000000</td>\n",
       "      <td>2980.000000</td>\n",
       "      <td>79.626250</td>\n",
       "      <td>0.812735</td>\n",
       "      <td>6.432500</td>\n",
       "      <td>16.453750</td>\n",
       "      <td>4.300000</td>\n",
       "      <td>2.000000</td>\n",
       "      <td>0.767250</td>\n",
       "    </tr>\n",
       "    <tr>\n",
       "      <th>max</th>\n",
       "      <td>9.000000</td>\n",
       "      <td>3122.500000</td>\n",
       "      <td>361.150000</td>\n",
       "      <td>1.480000</td>\n",
       "      <td>18.600000</td>\n",
       "      <td>84.400000</td>\n",
       "      <td>8.094000</td>\n",
       "      <td>2.000000</td>\n",
       "      <td>1.000000</td>\n",
       "    </tr>\n",
       "  </tbody>\n",
       "</table>\n",
       "</div>"
      ],
      "text/plain": [
       "            Facies        Depth           GR    ILD_log10     DeltaPHI  \\\n",
       "count  3232.000000  3232.000000  3232.000000  3232.000000  3232.000000   \n",
       "mean      4.422030  2875.824567    66.135769     0.642719     3.559642   \n",
       "std       2.504243   131.006274    30.854826     0.241845     5.228948   \n",
       "min       1.000000  2573.500000    13.250000    -0.025949   -21.832000   \n",
       "25%       2.000000  2791.000000    46.918750     0.492750     1.163750   \n",
       "50%       4.000000  2893.500000    65.721500     0.624437     3.500000   \n",
       "75%       6.000000  2980.000000    79.626250     0.812735     6.432500   \n",
       "max       9.000000  3122.500000   361.150000     1.480000    18.600000   \n",
       "\n",
       "             PHIND           PE         NM_M       RELPOS  \n",
       "count  3232.000000  3232.000000  3232.000000  3232.000000  \n",
       "mean     13.483213     3.725014     1.498453     0.520287  \n",
       "std       7.698980     0.896152     0.500075     0.286792  \n",
       "min       0.550000     0.200000     1.000000     0.010000  \n",
       "25%       8.346750     3.100000     1.000000     0.273000  \n",
       "50%      12.150000     3.551500     1.000000     0.526000  \n",
       "75%      16.453750     4.300000     2.000000     0.767250  \n",
       "max      84.400000     8.094000     2.000000     1.000000  "
      ]
     },
     "execution_count": 67,
     "metadata": {},
     "output_type": "execute_result"
    }
   ],
   "source": [
    "# Read in data\n",
    "data = pd.read_csv('training_data.csv')\n",
    "\n",
    "data.describe()"
   ]
  },
  {
   "cell_type": "code",
   "execution_count": 68,
   "metadata": {},
   "outputs": [
    {
     "data": {
      "text/plain": [
       "Facies         int64\n",
       "Formation     object\n",
       "Well Name     object\n",
       "Depth        float64\n",
       "GR           float64\n",
       "ILD_log10    float64\n",
       "DeltaPHI     float64\n",
       "PHIND        float64\n",
       "PE           float64\n",
       "NM_M           int64\n",
       "RELPOS       float64\n",
       "dtype: object"
      ]
     },
     "execution_count": 68,
     "metadata": {},
     "output_type": "execute_result"
    }
   ],
   "source": [
    "data.dtypes"
   ]
  },
  {
   "cell_type": "markdown",
   "metadata": {},
   "source": [
    "**comment**  \n",
    " - 3232 instances\n",
    " - data is clean"
   ]
  },
  {
   "cell_type": "code",
   "execution_count": 69,
   "metadata": {},
   "outputs": [
    {
     "data": {
      "text/html": [
       "<div>\n",
       "<style scoped>\n",
       "    .dataframe tbody tr th:only-of-type {\n",
       "        vertical-align: middle;\n",
       "    }\n",
       "\n",
       "    .dataframe tbody tr th {\n",
       "        vertical-align: top;\n",
       "    }\n",
       "\n",
       "    .dataframe thead th {\n",
       "        text-align: right;\n",
       "    }\n",
       "</style>\n",
       "<table border=\"1\" class=\"dataframe\">\n",
       "  <thead>\n",
       "    <tr style=\"text-align: right;\">\n",
       "      <th></th>\n",
       "      <th>Facies</th>\n",
       "      <th>Formation</th>\n",
       "      <th>Well Name</th>\n",
       "      <th>Depth</th>\n",
       "      <th>GR</th>\n",
       "      <th>ILD_log10</th>\n",
       "      <th>DeltaPHI</th>\n",
       "      <th>PHIND</th>\n",
       "      <th>PE</th>\n",
       "      <th>NM_M</th>\n",
       "      <th>RELPOS</th>\n",
       "    </tr>\n",
       "  </thead>\n",
       "  <tbody>\n",
       "    <tr>\n",
       "      <th>0</th>\n",
       "      <td>3</td>\n",
       "      <td>A1 SH</td>\n",
       "      <td>SHRIMPLIN</td>\n",
       "      <td>2793.0</td>\n",
       "      <td>77.45</td>\n",
       "      <td>0.664</td>\n",
       "      <td>9.9</td>\n",
       "      <td>11.915</td>\n",
       "      <td>4.6</td>\n",
       "      <td>1</td>\n",
       "      <td>1.000</td>\n",
       "    </tr>\n",
       "    <tr>\n",
       "      <th>1</th>\n",
       "      <td>3</td>\n",
       "      <td>A1 SH</td>\n",
       "      <td>SHRIMPLIN</td>\n",
       "      <td>2793.5</td>\n",
       "      <td>78.26</td>\n",
       "      <td>0.661</td>\n",
       "      <td>14.2</td>\n",
       "      <td>12.565</td>\n",
       "      <td>4.1</td>\n",
       "      <td>1</td>\n",
       "      <td>0.979</td>\n",
       "    </tr>\n",
       "    <tr>\n",
       "      <th>2</th>\n",
       "      <td>3</td>\n",
       "      <td>A1 SH</td>\n",
       "      <td>SHRIMPLIN</td>\n",
       "      <td>2794.0</td>\n",
       "      <td>79.05</td>\n",
       "      <td>0.658</td>\n",
       "      <td>14.8</td>\n",
       "      <td>13.050</td>\n",
       "      <td>3.6</td>\n",
       "      <td>1</td>\n",
       "      <td>0.957</td>\n",
       "    </tr>\n",
       "    <tr>\n",
       "      <th>3</th>\n",
       "      <td>3</td>\n",
       "      <td>A1 SH</td>\n",
       "      <td>SHRIMPLIN</td>\n",
       "      <td>2794.5</td>\n",
       "      <td>86.10</td>\n",
       "      <td>0.655</td>\n",
       "      <td>13.9</td>\n",
       "      <td>13.115</td>\n",
       "      <td>3.5</td>\n",
       "      <td>1</td>\n",
       "      <td>0.936</td>\n",
       "    </tr>\n",
       "    <tr>\n",
       "      <th>4</th>\n",
       "      <td>3</td>\n",
       "      <td>A1 SH</td>\n",
       "      <td>SHRIMPLIN</td>\n",
       "      <td>2795.0</td>\n",
       "      <td>74.58</td>\n",
       "      <td>0.647</td>\n",
       "      <td>13.5</td>\n",
       "      <td>13.300</td>\n",
       "      <td>3.4</td>\n",
       "      <td>1</td>\n",
       "      <td>0.915</td>\n",
       "    </tr>\n",
       "  </tbody>\n",
       "</table>\n",
       "</div>"
      ],
      "text/plain": [
       "   Facies Formation  Well Name   Depth     GR  ILD_log10  DeltaPHI   PHIND  \\\n",
       "0       3     A1 SH  SHRIMPLIN  2793.0  77.45      0.664       9.9  11.915   \n",
       "1       3     A1 SH  SHRIMPLIN  2793.5  78.26      0.661      14.2  12.565   \n",
       "2       3     A1 SH  SHRIMPLIN  2794.0  79.05      0.658      14.8  13.050   \n",
       "3       3     A1 SH  SHRIMPLIN  2794.5  86.10      0.655      13.9  13.115   \n",
       "4       3     A1 SH  SHRIMPLIN  2795.0  74.58      0.647      13.5  13.300   \n",
       "\n",
       "    PE  NM_M  RELPOS  \n",
       "0  4.6     1   1.000  \n",
       "1  4.1     1   0.979  \n",
       "2  3.6     1   0.957  \n",
       "3  3.5     1   0.936  \n",
       "4  3.4     1   0.915  "
      ]
     },
     "execution_count": 69,
     "metadata": {},
     "output_type": "execute_result"
    }
   ],
   "source": [
    "data.head()"
   ]
  },
  {
   "cell_type": "markdown",
   "metadata": {},
   "source": [
    "The seven predictor variables are:\n",
    "* Five wire line log curves include [gamma ray](http://petrowiki.org/Gamma_ray_logs) (GR), [resistivity logging](http://petrowiki.org/Resistivity_and_spontaneous_%28SP%29_logging) (ILD_log10),\n",
    "[photoelectric effect](http://www.glossary.oilfield.slb.com/en/Terms/p/photoelectric_effect.aspx) (PE), [neutron-density porosity difference and average neutron-density porosity](http://petrowiki.org/Neutron_porosity_logs) (DeltaPHI and PHIND). Note, some wells do not have PE.\n",
    "* Two geologic constraining variables: nonmarine-marine indicator (NM_M) and relative position (RELPOS)"
   ]
  },
  {
   "cell_type": "code",
   "execution_count": 70,
   "metadata": {},
   "outputs": [
    {
     "name": "stdout",
     "output_type": "stream",
     "text": [
      "The facies are [1 2 3 4 5 6 7 8 9]\n"
     ]
    },
    {
     "data": {
      "text/plain": [
       "(array([259., 738., 615., 184., 217., 462.,  98., 498., 161.]),\n",
       " array([1.        , 1.88888889, 2.77777778, 3.66666667, 4.55555556,\n",
       "        5.44444444, 6.33333333, 7.22222222, 8.11111111, 9.        ]),\n",
       " <a list of 9 Patch objects>)"
      ]
     },
     "execution_count": 70,
     "metadata": {},
     "output_type": "execute_result"
    },
    {
     "data": {
      "image/png": "[encoded data removed]",
      "text/plain": [
       "<Figure size 432x288 with 1 Axes>"
      ]
     },
     "metadata": {
      "needs_background": "light"
     },
     "output_type": "display_data"
    }
   ],
   "source": [
    "# Plot Facies of all wells\n",
    "print('The facies are {}'.format(np.unique(data['Facies'])))\n",
    "plt.hist(data['Facies'], bins=9)"
   ]
  },
  {
   "cell_type": "markdown",
   "metadata": {},
   "source": [
    "The nine discrete facies (classes of rocks) are: \n",
    "1. Nonmarine sandstone\n",
    "2. Nonmarine coarse siltstone \n",
    "3. Nonmarine fine siltstone \n",
    "4. Marine siltstone and shale \n",
    "5. Mudstone (limestone)\n",
    "6. Wackestone (limestone)\n",
    "7. Dolomite\n",
    "8. Packstone-grainstone (limestone)\n",
    "9. Phylloid-algal bafflestone (limestone)"
   ]
  },
  {
   "cell_type": "markdown",
   "metadata": {},
   "source": [
    "## prep for CNN"
   ]
  },
  {
   "cell_type": "code",
   "execution_count": 71,
   "metadata": {},
   "outputs": [],
   "source": [
    "def prepare_feature_vectors(data, features, window_width):\n",
    "\n",
    "    raw_feature_vectors = data[features]\n",
    "    well_labels = data['Well Name']\n",
    "    num_features = np.shape(raw_feature_vectors)[1]\n",
    "\n",
    "    output = np.zeros((1, window_width, num_features))\n",
    "    for x in well_labels.unique():\n",
    "        well = raw_feature_vectors[well_labels == x].values\n",
    "        well = np.concatenate((np.repeat(well[0:1], np.floor((window_width-1)/2.0), axis=0), well,\n",
    "                              np.repeat(well[-1:None], np.floor(window_width/2.0), axis=0)), axis=0)\n",
    "\n",
    "        tmp = np.zeros((np.size(well, axis=0) - window_width + 1, window_width, num_features))\n",
    "        for i in np.arange(np.size(well, axis=0) - window_width + 1):\n",
    "            tmp[i] = np.reshape(well[i: i + window_width], (window_width, num_features))\n",
    "\n",
    "        output = np.append(output, tmp, axis=0)\n",
    "\n",
    "    return output[1:]"
   ]
  },
  {
   "cell_type": "code",
   "execution_count": 72,
   "metadata": {},
   "outputs": [
    {
     "name": "stdout",
     "output_type": "stream",
     "text": [
      "Training Samples= 3232    Test Samples= 0\n"
     ]
    }
   ],
   "source": [
    "# Window around central value and list the six features we are using\n",
    "window_width = 15\n",
    "feature_list = ['GR', 'ILD_log10', 'DeltaPHI', 'PHIND', 'NM_M', 'RELPOS']\n",
    "X_train = prepare_feature_vectors(data[data['PE'].notnull()], feature_list, window_width)\n",
    "num_train_samples = np.asarray(np.shape(X_train))[0]\n",
    "\n",
    "X_test = prepare_feature_vectors(data[data['PE'].isnull()], feature_list, window_width)\n",
    "num_test_samples = np.asarray(np.shape(X_test))[0]\n",
    "\n",
    "print('Training Samples=', num_train_samples, '   Test Samples=', num_test_samples)"
   ]
  },
  {
   "cell_type": "code",
   "execution_count": 73,
   "metadata": {},
   "outputs": [],
   "source": [
    "# define training parameters and prepare arrays to store training metrics\n",
    "epochs_per_fold = 1000\n",
    "num_fold = 5\n",
    "roll_stride = np.ceil(num_train_samples/num_fold).astype(int)\n",
    "\n",
    "cnn_hist = History()\n",
    "hist = np.zeros((4, num_fold, epochs_per_fold))\n",
    "f1scores = np.zeros(num_fold)\n",
    "Y_test = np.zeros((num_test_samples, num_fold))\n",
    "\n",
    "\n",
    "# shuffle input data\n",
    "#rand_perm = np.random.permutation(num_train_samples)\n",
    "#X_train = X_train[rand_perm]\n",
    "#Y_train = Y_train[rand_perm]\n",
    "\n",
    "X_train = np.random.shuffle(X_train)\n",
    "Y_train = np.random.shuffle(Y_train)"
   ]
  },
  {
   "cell_type": "markdown",
   "metadata": {},
   "source": [
    "At this point, we have a training dataset with imputed PE so we can proceed with the facies classification."
   ]
  },
  {
   "cell_type": "code",
   "execution_count": 74,
   "metadata": {},
   "outputs": [
    {
     "data": {
      "text/html": [
       "<div>\n",
       "<style scoped>\n",
       "    .dataframe tbody tr th:only-of-type {\n",
       "        vertical-align: middle;\n",
       "    }\n",
       "\n",
       "    .dataframe tbody tr th {\n",
       "        vertical-align: top;\n",
       "    }\n",
       "\n",
       "    .dataframe thead th {\n",
       "        text-align: right;\n",
       "    }\n",
       "</style>\n",
       "<table border=\"1\" class=\"dataframe\">\n",
       "  <thead>\n",
       "    <tr style=\"text-align: right;\">\n",
       "      <th></th>\n",
       "      <th>Depth</th>\n",
       "      <th>GR</th>\n",
       "      <th>ILD_log10</th>\n",
       "      <th>DeltaPHI</th>\n",
       "      <th>PHIND</th>\n",
       "      <th>PE</th>\n",
       "      <th>NM_M</th>\n",
       "      <th>RELPOS</th>\n",
       "    </tr>\n",
       "  </thead>\n",
       "  <tbody>\n",
       "    <tr>\n",
       "      <th>count</th>\n",
       "      <td>830.000000</td>\n",
       "      <td>830.00000</td>\n",
       "      <td>830.000000</td>\n",
       "      <td>830.000000</td>\n",
       "      <td>830.000000</td>\n",
       "      <td>830.000000</td>\n",
       "      <td>830.000000</td>\n",
       "      <td>830.000000</td>\n",
       "    </tr>\n",
       "    <tr>\n",
       "      <th>mean</th>\n",
       "      <td>2987.070482</td>\n",
       "      <td>57.61173</td>\n",
       "      <td>0.666312</td>\n",
       "      <td>2.851964</td>\n",
       "      <td>11.655277</td>\n",
       "      <td>3.654178</td>\n",
       "      <td>1.678313</td>\n",
       "      <td>0.535807</td>\n",
       "    </tr>\n",
       "    <tr>\n",
       "      <th>std</th>\n",
       "      <td>94.391925</td>\n",
       "      <td>27.52774</td>\n",
       "      <td>0.288367</td>\n",
       "      <td>3.442074</td>\n",
       "      <td>5.190236</td>\n",
       "      <td>0.649793</td>\n",
       "      <td>0.467405</td>\n",
       "      <td>0.283062</td>\n",
       "    </tr>\n",
       "    <tr>\n",
       "      <th>min</th>\n",
       "      <td>2808.000000</td>\n",
       "      <td>12.03600</td>\n",
       "      <td>-0.468000</td>\n",
       "      <td>-8.900000</td>\n",
       "      <td>1.855000</td>\n",
       "      <td>2.113000</td>\n",
       "      <td>1.000000</td>\n",
       "      <td>0.013000</td>\n",
       "    </tr>\n",
       "    <tr>\n",
       "      <th>25%</th>\n",
       "      <td>2911.625000</td>\n",
       "      <td>36.77325</td>\n",
       "      <td>0.541000</td>\n",
       "      <td>0.411250</td>\n",
       "      <td>7.700000</td>\n",
       "      <td>3.171500</td>\n",
       "      <td>1.000000</td>\n",
       "      <td>0.300000</td>\n",
       "    </tr>\n",
       "    <tr>\n",
       "      <th>50%</th>\n",
       "      <td>2993.750000</td>\n",
       "      <td>58.34450</td>\n",
       "      <td>0.675000</td>\n",
       "      <td>2.397500</td>\n",
       "      <td>10.950000</td>\n",
       "      <td>3.515500</td>\n",
       "      <td>2.000000</td>\n",
       "      <td>0.547500</td>\n",
       "    </tr>\n",
       "    <tr>\n",
       "      <th>75%</th>\n",
       "      <td>3055.375000</td>\n",
       "      <td>73.05150</td>\n",
       "      <td>0.850750</td>\n",
       "      <td>4.600000</td>\n",
       "      <td>14.793750</td>\n",
       "      <td>4.191500</td>\n",
       "      <td>2.000000</td>\n",
       "      <td>0.778000</td>\n",
       "    </tr>\n",
       "    <tr>\n",
       "      <th>max</th>\n",
       "      <td>3160.500000</td>\n",
       "      <td>220.41300</td>\n",
       "      <td>1.507000</td>\n",
       "      <td>16.500000</td>\n",
       "      <td>31.335000</td>\n",
       "      <td>6.321000</td>\n",
       "      <td>2.000000</td>\n",
       "      <td>1.000000</td>\n",
       "    </tr>\n",
       "  </tbody>\n",
       "</table>\n",
       "</div>"
      ],
      "text/plain": [
       "             Depth         GR   ILD_log10    DeltaPHI       PHIND          PE  \\\n",
       "count   830.000000  830.00000  830.000000  830.000000  830.000000  830.000000   \n",
       "mean   2987.070482   57.61173    0.666312    2.851964   11.655277    3.654178   \n",
       "std      94.391925   27.52774    0.288367    3.442074    5.190236    0.649793   \n",
       "min    2808.000000   12.03600   -0.468000   -8.900000    1.855000    2.113000   \n",
       "25%    2911.625000   36.77325    0.541000    0.411250    7.700000    3.171500   \n",
       "50%    2993.750000   58.34450    0.675000    2.397500   10.950000    3.515500   \n",
       "75%    3055.375000   73.05150    0.850750    4.600000   14.793750    4.191500   \n",
       "max    3160.500000  220.41300    1.507000   16.500000   31.335000    6.321000   \n",
       "\n",
       "             NM_M      RELPOS  \n",
       "count  830.000000  830.000000  \n",
       "mean     1.678313    0.535807  \n",
       "std      0.467405    0.283062  \n",
       "min      1.000000    0.013000  \n",
       "25%      1.000000    0.300000  \n",
       "50%      2.000000    0.547500  \n",
       "75%      2.000000    0.778000  \n",
       "max      2.000000    1.000000  "
      ]
     },
     "execution_count": 74,
     "metadata": {},
     "output_type": "execute_result"
    }
   ],
   "source": [
    "# Read in two test wells\n",
    "blind_wells = pandas.read_csv('nofacies_data.csv')\n",
    "blind_wells.describe()\n",
    "\n",
    "# test data is clean as well"
   ]
  },
  {
   "cell_type": "code",
   "execution_count": null,
   "metadata": {},
   "outputs": [],
   "source": []
  },
  {
   "cell_type": "code",
   "execution_count": 75,
   "metadata": {},
   "outputs": [
    {
     "name": "stdout",
     "output_type": "stream",
     "text": [
      "Training Samples= 3232    Test Samples= 830\n"
     ]
    }
   ],
   "source": [
    "# Convert facies class to one-hot-vector representation\n",
    "num_classes = data['Facies'].unique().size\n",
    "Y_train = np_utils.to_categorical(data['Facies'].values-1, num_classes)\n",
    "\n",
    "# Window around central value and define the seven features we are using\n",
    "window_width = 15\n",
    "feature_list = ['GR', 'ILD_log10', 'DeltaPHI', 'PHIND', 'PE', 'NM_M', 'RELPOS']\n",
    "X_train = prepare_feature_vectors(data, feature_list, window_width)\n",
    "X_test = prepare_feature_vectors(blind_wells, feature_list, window_width)\n",
    "\n",
    "num_train_samples = np.asarray(np.shape(X_train))[0]\n",
    "num_test_samples = np.asarray(np.shape(X_test))[0]\n",
    "\n",
    "print('Training Samples=', num_train_samples, '   Test Samples=', num_test_samples)"
   ]
  },
  {
   "cell_type": "code",
   "execution_count": 91,
   "metadata": {},
   "outputs": [
    {
     "name": "stdout",
     "output_type": "stream",
     "text": [
      "_________________________________________________________________\n",
      "Layer (type)                 Output Shape              Param #   \n",
      "=================================================================\n",
      "conv1d_48 (Conv1D)           (None, 15, 12)            96        \n",
      "_________________________________________________________________\n",
      "activation_67 (Activation)   (None, 15, 12)            0         \n",
      "_________________________________________________________________\n",
      "conv1d_49 (Conv1D)           (None, 15, 7)             91        \n",
      "_________________________________________________________________\n",
      "activation_68 (Activation)   (None, 15, 7)             0         \n",
      "_________________________________________________________________\n",
      "conv1d_50 (Conv1D)           (None, 13, 12)            264       \n",
      "_________________________________________________________________\n",
      "activation_69 (Activation)   (None, 13, 12)            0         \n",
      "_________________________________________________________________\n",
      "dropout_33 (Dropout)         (None, 13, 12)            0         \n",
      "_________________________________________________________________\n",
      "flatten_17 (Flatten)         (None, 156)               0         \n",
      "_________________________________________________________________\n",
      "dense_31 (Dense)             (None, 48)                7536      \n",
      "_________________________________________________________________\n",
      "batch_normalization_19 (Batc (None, 48)                192       \n",
      "_________________________________________________________________\n",
      "activation_70 (Activation)   (None, 48)                0         \n",
      "_________________________________________________________________\n",
      "dropout_34 (Dropout)         (None, 48)                0         \n",
      "_________________________________________________________________\n",
      "dense_32 (Dense)             (None, 9)                 441       \n",
      "=================================================================\n",
      "Total params: 8,620\n",
      "Trainable params: 8,524\n",
      "Non-trainable params: 96\n",
      "_________________________________________________________________\n"
     ]
    }
   ],
   "source": [
    "# define neural network to classify facies\n",
    "num_filters = 12\n",
    "dropout_prob = 0.6\n",
    "\n",
    "convnet = Sequential()\n",
    "convnet.add(Conv1D(num_filters, 1, padding='valid', input_shape=(window_width, len(feature_list))))\n",
    "convnet.add(Activation('relu'))\n",
    "convnet.add(Conv1D(7, 1, padding='valid'))\n",
    "convnet.add(Activation('relu'))\n",
    "convnet.add(Conv1D(num_filters, 3, padding='valid'))\n",
    "convnet.add(Activation('relu'))\n",
    "convnet.add(Dropout(dropout_prob / 2))\n",
    "\n",
    "convnet.add(Flatten())\n",
    "convnet.add(Dense(4 * num_filters))\n",
    "convnet.add(normalization.BatchNormalization())\n",
    "convnet.add(Activation('sigmoid'))\n",
    "convnet.add(Dropout(dropout_prob))\n",
    "\n",
    "convnet.add(Dense(num_classes, activation=(tf.nn.softmax)))\n",
    "#convnet.add(Dense(num_classes))\n",
    "#convnet.add(Activation('softmax'))\n",
    "convnet.compile(loss='categorical_crossentropy', optimizer='adadelta', metrics=['accuracy'])\n",
    "convnet.summary()\n",
    "\n",
    "# save initial weights\n",
    "initial_weights = convnet.get_weights()"
   ]
  },
  {
   "cell_type": "code",
   "execution_count": 97,
   "metadata": {},
   "outputs": [],
   "source": [
    "# define training parameters and prepare arrays to store training metrics\n",
    "epochs_per_fold = 1000\n",
    "num_fold = 6\n",
    "roll_stride = np.ceil(num_train_samples/num_fold).astype(int)\n",
    "\n",
    "convnet_hist = History()\n",
    "hist = np.zeros((4, num_fold, epochs_per_fold))\n",
    "f1scores = np.zeros(num_fold)\n",
    "Y_test_ohv = np.zeros((num_test_samples, num_fold, num_classes))\n",
    "\n",
    "\n",
    "# shuffle input data\n",
    "rand_perm = np.random.permutation(num_train_samples)\n",
    "X_train = X_train[rand_perm]\n",
    "Y_train = Y_train[rand_perm]"
   ]
  },
  {
   "cell_type": "code",
   "execution_count": 98,
   "metadata": {},
   "outputs": [
    {
     "name": "stdout",
     "output_type": "stream",
     "text": [
      "F1 Score = 0.6989480198019802\n",
      "F1 Score = 0.7051361386138614\n",
      "F1 Score = 0.7100866336633663\n",
      "F1 Score = 0.7165841584158416\n",
      "F1 Score = 0.6478960396039604\n",
      "F1 Score = 0.6556311881188119\n",
      "Average F1 Score = 0.6890470297029703\n"
     ]
    }
   ],
   "source": [
    "# use 6-fold cross validation and train 6 neural networks, ending up with 6 sets of predictions\n",
    "for i in np.arange(num_fold):\n",
    "    convnet.set_weights(initial_weights)\n",
    "    X_train = np.roll(X_train, i*roll_stride, axis=0)\n",
    "    Y_train = np.roll(Y_train, i*roll_stride, axis=0)\n",
    "\n",
    "    convnet.fit(X_train, Y_train, batch_size=200, epochs=epochs_per_fold, verbose=0,\n",
    "                validation_split=1.0/num_fold, callbacks=[convnet_hist])\n",
    "\n",
    "    hist[:, i, :] = [convnet_hist.history['acc'], convnet_hist.history['val_acc'],\n",
    "                     convnet_hist.history['loss'], convnet_hist.history['val_loss']]\n",
    "\n",
    "    Y_predict = 1 + np.argmax(convnet.predict(X_train), axis=1)\n",
    "    f1scores[i] = metrics.f1_score(1 + np.argmax(Y_train, axis=1), Y_predict, average='micro')\n",
    "    print('F1 Score =', f1scores[i])\n",
    "\n",
    "    Y_test_ohv[:, i, :] = convnet.predict(X_test)\n",
    "    \n",
    "print('Average F1 Score =', np.mean(f1scores))"
   ]
  },
  {
   "cell_type": "code",
   "execution_count": 99,
   "metadata": {},
   "outputs": [
    {
     "data": {
      "text/plain": [
       "<matplotlib.legend.Legend at 0x7f491ad90208>"
      ]
     },
     "execution_count": 99,
     "metadata": {},
     "output_type": "execute_result"
    },
    {
     "data": {
      "image/png": "[encoded data removed]",
      "text/plain": [
       "<Figure size 432x288 with 1 Axes>"
      ]
     },
     "metadata": {
      "needs_background": "light"
     },
     "output_type": "display_data"
    }
   ],
   "source": [
    "# Plot callbacks\n",
    "hist = np.reshape(hist, (4, num_fold * epochs_per_fold))\n",
    "plt.plot(hist[0]); plt.plot(hist[1])\n",
    "plt.legend(['train', 'val'], loc='lower left')"
   ]
  },
  {
   "cell_type": "code",
   "execution_count": null,
   "metadata": {},
   "outputs": [],
   "source": []
  },
  {
   "cell_type": "code",
   "execution_count": 100,
   "metadata": {},
   "outputs": [
    {
     "data": {
      "text/plain": [
       "<matplotlib.legend.Legend at 0x7f491ad7cc88>"
      ]
     },
     "execution_count": 100,
     "metadata": {},
     "output_type": "execute_result"
    },
    {
     "data": {
      "image/png": "[encoded data removed]",
      "text/plain": [
       "<Figure size 432x288 with 1 Axes>"
      ]
     },
     "metadata": {
      "needs_background": "light"
     },
     "output_type": "display_data"
    }
   ],
   "source": [
    "plt.plot(hist[2]); plt.plot(hist[3])\n",
    "plt.legend(['train', 'val'], loc='upper left')"
   ]
  },
  {
   "cell_type": "code",
   "execution_count": null,
   "metadata": {},
   "outputs": [],
   "source": []
  },
  {
   "cell_type": "code",
   "execution_count": 103,
   "metadata": {},
   "outputs": [],
   "source": [
    "# Soft majority voting on 6 predictions to produce final prediction \n",
    "Y_test = 1 + np.argmax(np.sum(Y_test_ohv, axis=1), axis=1)\n",
    "\n",
    "# Append predictions to dataframe and write to file\n",
    "blind_wells['Facies'] = Y_test\n",
    "blind_wells.to_csv('predicted_facies_v1.csv', index=False)"
   ]
  },
  {
   "cell_type": "code",
   "execution_count": null,
   "metadata": {},
   "outputs": [],
   "source": []
  }
 ],
 "metadata": {
  "anaconda-cloud": {},
  "kernelspec": {
   "display_name": "Python 3",
   "language": "python",
   "name": "python3"
  },
  "language_info": {
   "codemirror_mode": {
    "name": "ipython",
    "version": 3
   },
   "file_extension": ".py",
   "mimetype": "text/x-python",
   "name": "python",
   "nbconvert_exporter": "python",
   "pygments_lexer": "ipython3",
   "version": "3.6.6"
  }
 },
 "nbformat": 4,
 "nbformat_minor": 1
}
